{
 "cells": [
  {
   "cell_type": "markdown",
   "id": "9ae02ce2",
   "metadata": {},
   "source": [
    "__The following code will compare two potential portfolios, containing ten stocks each. One contains stocks from only the \n",
    "consumer staples sector, while the other contains stocks from ten different industries. We will examine the expected return \n",
    "for each portfolio using the efficient frontier method. The objective is to determine whether the diverse portfolio\n",
    "provides a better anticipated return than the portfolio that draws from only one sector.__"
   ]
  },
  {
   "cell_type": "code",
   "execution_count": 31,
   "id": "65859bf1",
   "metadata": {},
   "outputs": [],
   "source": [
    "import pandas as pd\n",
    "from pandas_datareader import data as pdr\n",
    "import datetime as dt"
   ]
  },
  {
   "cell_type": "code",
   "execution_count": 7,
   "id": "520d6d70",
   "metadata": {},
   "outputs": [],
   "source": [
    "pd.set_option=('display.max_columns', None)\n",
    "pd.set_option=('display.max_rows', None)"
   ]
  },
  {
   "cell_type": "markdown",
   "id": "b6a9aeb2",
   "metadata": {},
   "source": [
    "__Choose date range to measure historical data.__"
   ]
  },
  {
   "cell_type": "code",
   "execution_count": 8,
   "id": "4c5a4158",
   "metadata": {},
   "outputs": [],
   "source": [
    "start = dt.datetime(2000,1,1)\n",
    "end=dt.datetime.now()"
   ]
  },
  {
   "cell_type": "markdown",
   "id": "53f6b99a",
   "metadata": {},
   "source": [
    "__Write UDF to import stock data.__"
   ]
  },
  {
   "cell_type": "code",
   "execution_count": 9,
   "id": "76beea85",
   "metadata": {},
   "outputs": [],
   "source": [
    "def get_stock(ticker):\n",
    "    data = pdr.DataReader(f'{ticker}', 'yahoo', start, end)\n",
    "    data[f'{ticker}'] = data['Adj Close']\n",
    "    data = data[[f'{ticker}']]\n",
    "    print(data.head())\n",
    "    return data"
   ]
  },
  {
   "cell_type": "markdown",
   "id": "e9dd7626",
   "metadata": {},
   "source": [
    "__Use the function to read data for the following stocks from the consumer staples sector:__"
   ]
  },
  {
   "cell_type": "code",
   "execution_count": 10,
   "id": "ee3ed1c3",
   "metadata": {},
   "outputs": [
    {
     "name": "stdout",
     "output_type": "stream",
     "text": [
      "                   KO\n",
      "Date                 \n",
      "2000-01-03  15.452650\n",
      "2000-01-04  15.469786\n",
      "2000-01-05  15.606835\n",
      "2000-01-06  15.623975\n",
      "2000-01-07  16.651869\n",
      "                 KDP\n",
      "Date                \n",
      "2008-05-07  3.019603\n",
      "2008-05-08  3.007763\n",
      "2008-05-09  2.988816\n",
      "2008-05-12  3.027893\n",
      "2008-05-13  3.066971\n",
      "                 COST\n",
      "Date                 \n",
      "2000-01-03  31.135601\n",
      "2000-01-04  29.430117\n",
      "2000-01-05  29.933004\n",
      "2000-01-06  30.534292\n",
      "2000-01-07  32.556789\n",
      "                  TGT\n",
      "Date                 \n",
      "2000-01-03  23.972727\n",
      "2000-01-04  22.933144\n",
      "2000-01-05  22.413357\n",
      "2000-01-06  21.352989\n",
      "2000-01-07  22.454939\n",
      "                  UL\n",
      "Date                \n",
      "2000-01-03  7.892837\n",
      "2000-01-04  7.777974\n",
      "2000-01-05  8.106159\n",
      "2000-01-06  8.270248\n",
      "2000-01-07  8.729709\n",
      "                   PG\n",
      "Date                 \n",
      "2000-01-03  29.713684\n",
      "2000-01-04  29.141945\n",
      "2000-01-05  28.587513\n",
      "2000-01-06  29.904293\n",
      "2000-01-07  32.295235\n",
      "                 GIS\n",
      "Date                \n",
      "2000-01-03  8.847642\n",
      "2000-01-04  8.687069\n",
      "2000-01-05  8.638897\n",
      "2000-01-06  8.693945\n",
      "2000-01-07  8.710128\n",
      "                 MDLZ\n",
      "Date                 \n",
      "2001-06-13  12.481863\n",
      "2001-06-14  12.042500\n",
      "2001-06-15  12.222241\n",
      "2001-06-18  12.110412\n",
      "2001-06-19  12.142361\n",
      "                 ULTA\n",
      "Date                 \n",
      "2007-10-25  29.490023\n",
      "2007-10-26  31.645901\n",
      "2007-10-29  34.316025\n",
      "2007-10-30  35.037945\n",
      "2007-10-31  33.821556\n",
      "                  REV\n",
      "Date                 \n",
      "2000-01-03  71.260963\n",
      "2000-01-04  75.349709\n",
      "2000-01-05  70.676857\n",
      "2000-01-06  71.845070\n",
      "2000-01-07  71.260963\n"
     ]
    }
   ],
   "source": [
    "coke = get_stock('KO')\n",
    "keurig = get_stock('KDP')\n",
    "costco = get_stock('COST')\n",
    "target = get_stock('TGT')\n",
    "unilever = get_stock('UL')\n",
    "procter = get_stock('PG')\n",
    "genmills = get_stock('GIS')\n",
    "mondelez = get_stock('MDLZ')\n",
    "ulta = get_stock('ULTA')\n",
    "revlon = get_stock('REV')"
   ]
  },
  {
   "cell_type": "code",
   "execution_count": 11,
   "id": "3feff1d6",
   "metadata": {},
   "outputs": [],
   "source": [
    "from functools import reduce"
   ]
  },
  {
   "cell_type": "markdown",
   "id": "89a8b541",
   "metadata": {},
   "source": [
    "__Write UDF to combine info for all stocks into one variable.__"
   ]
  },
  {
   "cell_type": "code",
   "execution_count": 18,
   "id": "8ff217a0",
   "metadata": {},
   "outputs": [],
   "source": [
    "def combine_stocks(tickers):\n",
    "    data_frames = []\n",
    "    for i in tickers:\n",
    "        data_frames.append(get_stock(i))\n",
    "    df_merged = reduce(lambda left, right: pd.merge(left, right, on=['Date'], how='outer'), data_frames)\n",
    "    print(df_merged.head())\n",
    "    return df_merged"
   ]
  },
  {
   "cell_type": "markdown",
   "id": "675eed1a",
   "metadata": {},
   "source": [
    "__Use the above function to combine stock data.__"
   ]
  },
  {
   "cell_type": "code",
   "execution_count": 19,
   "id": "da0b9613",
   "metadata": {},
   "outputs": [
    {
     "name": "stdout",
     "output_type": "stream",
     "text": [
      "                   KO\n",
      "Date                 \n",
      "2000-01-03  15.452653\n",
      "2000-01-04  15.469783\n",
      "2000-01-05  15.606839\n",
      "2000-01-06  15.623977\n",
      "2000-01-07  16.651865\n",
      "                 KDP\n",
      "Date                \n",
      "2008-05-07  3.019604\n",
      "2008-05-08  3.007764\n",
      "2008-05-09  2.988816\n",
      "2008-05-12  3.027893\n",
      "2008-05-13  3.066971\n",
      "                 COST\n",
      "Date                 \n",
      "2000-01-03  31.135590\n",
      "2000-01-04  29.430122\n",
      "2000-01-05  29.933012\n",
      "2000-01-06  30.534290\n",
      "2000-01-07  32.556789\n",
      "                  TGT\n",
      "Date                 \n",
      "2000-01-03  23.972729\n",
      "2000-01-04  22.933136\n",
      "2000-01-05  22.413353\n",
      "2000-01-06  21.352987\n",
      "2000-01-07  22.454945\n",
      "                  UL\n",
      "Date                \n",
      "2000-01-03  7.892838\n",
      "2000-01-04  7.777972\n",
      "2000-01-05  8.106162\n",
      "2000-01-06  8.270250\n",
      "2000-01-07  8.729709\n",
      "                   PG\n",
      "Date                 \n",
      "2000-01-03  29.713697\n",
      "2000-01-04  29.141937\n",
      "2000-01-05  28.587511\n",
      "2000-01-06  29.904284\n",
      "2000-01-07  32.295231\n",
      "                 GIS\n",
      "Date                \n",
      "2000-01-03  8.847645\n",
      "2000-01-04  8.687068\n",
      "2000-01-05  8.638897\n",
      "2000-01-06  8.693941\n",
      "2000-01-07  8.710131\n",
      "                 MDLZ\n",
      "Date                 \n",
      "2001-06-13  12.481859\n",
      "2001-06-14  12.042497\n",
      "2001-06-15  12.222241\n",
      "2001-06-18  12.110404\n",
      "2001-06-19  12.142357\n",
      "                 ULTA\n",
      "Date                 \n",
      "2007-10-25  29.490023\n",
      "2007-10-26  31.645901\n",
      "2007-10-29  34.316025\n",
      "2007-10-30  35.037945\n",
      "2007-10-31  33.821556\n",
      "                  REV\n",
      "Date                 \n",
      "2000-01-03  71.260963\n",
      "2000-01-04  75.349709\n",
      "2000-01-05  70.676857\n",
      "2000-01-06  71.845070\n",
      "2000-01-07  71.260963\n",
      "                   KO  KDP       COST        TGT        UL         PG  \\\n",
      "Date                                                                    \n",
      "2000-01-03  15.452653  NaN  31.135590  23.972729  7.892838  29.713697   \n",
      "2000-01-04  15.469783  NaN  29.430122  22.933136  7.777972  29.141937   \n",
      "2000-01-05  15.606839  NaN  29.933012  22.413353  8.106162  28.587511   \n",
      "2000-01-06  15.623977  NaN  30.534290  21.352987  8.270250  29.904284   \n",
      "2000-01-07  16.651865  NaN  32.556789  22.454945  8.729709  32.295231   \n",
      "\n",
      "                 GIS  MDLZ  ULTA        REV  \n",
      "Date                                         \n",
      "2000-01-03  8.847645   NaN   NaN  71.260963  \n",
      "2000-01-04  8.687068   NaN   NaN  75.349709  \n",
      "2000-01-05  8.638897   NaN   NaN  70.676857  \n",
      "2000-01-06  8.693941   NaN   NaN  71.845070  \n",
      "2000-01-07  8.710131   NaN   NaN  71.260963  \n"
     ]
    }
   ],
   "source": [
    "staples_stocks = ['KO', 'KDP', 'COST', 'TGT', 'UL', 'PG', 'GIS', 'MDLZ', 'ULTA', 'REV']\n",
    "staples_portfolio = combine_stocks(staples_stocks)"
   ]
  },
  {
   "cell_type": "markdown",
   "id": "9663de70",
   "metadata": {},
   "source": [
    "__Print a sample of the portfolio.__"
   ]
  },
  {
   "cell_type": "code",
   "execution_count": 20,
   "id": "3d9ce3b4",
   "metadata": {},
   "outputs": [
    {
     "data": {
      "text/html": [
       "<div>\n",
       "<style scoped>\n",
       "    .dataframe tbody tr th:only-of-type {\n",
       "        vertical-align: middle;\n",
       "    }\n",
       "\n",
       "    .dataframe tbody tr th {\n",
       "        vertical-align: top;\n",
       "    }\n",
       "\n",
       "    .dataframe thead th {\n",
       "        text-align: right;\n",
       "    }\n",
       "</style>\n",
       "<table border=\"1\" class=\"dataframe\">\n",
       "  <thead>\n",
       "    <tr style=\"text-align: right;\">\n",
       "      <th></th>\n",
       "      <th>KO</th>\n",
       "      <th>KDP</th>\n",
       "      <th>COST</th>\n",
       "      <th>TGT</th>\n",
       "      <th>UL</th>\n",
       "      <th>PG</th>\n",
       "      <th>GIS</th>\n",
       "      <th>MDLZ</th>\n",
       "      <th>ULTA</th>\n",
       "      <th>REV</th>\n",
       "    </tr>\n",
       "    <tr>\n",
       "      <th>Date</th>\n",
       "      <th></th>\n",
       "      <th></th>\n",
       "      <th></th>\n",
       "      <th></th>\n",
       "      <th></th>\n",
       "      <th></th>\n",
       "      <th></th>\n",
       "      <th></th>\n",
       "      <th></th>\n",
       "      <th></th>\n",
       "    </tr>\n",
       "  </thead>\n",
       "  <tbody>\n",
       "    <tr>\n",
       "      <th>2000-01-03</th>\n",
       "      <td>15.452653</td>\n",
       "      <td>NaN</td>\n",
       "      <td>31.135590</td>\n",
       "      <td>23.972729</td>\n",
       "      <td>7.892838</td>\n",
       "      <td>29.713697</td>\n",
       "      <td>8.847645</td>\n",
       "      <td>NaN</td>\n",
       "      <td>NaN</td>\n",
       "      <td>71.260963</td>\n",
       "    </tr>\n",
       "    <tr>\n",
       "      <th>2000-01-04</th>\n",
       "      <td>15.469783</td>\n",
       "      <td>NaN</td>\n",
       "      <td>29.430122</td>\n",
       "      <td>22.933136</td>\n",
       "      <td>7.777972</td>\n",
       "      <td>29.141937</td>\n",
       "      <td>8.687068</td>\n",
       "      <td>NaN</td>\n",
       "      <td>NaN</td>\n",
       "      <td>75.349709</td>\n",
       "    </tr>\n",
       "    <tr>\n",
       "      <th>2000-01-05</th>\n",
       "      <td>15.606839</td>\n",
       "      <td>NaN</td>\n",
       "      <td>29.933012</td>\n",
       "      <td>22.413353</td>\n",
       "      <td>8.106162</td>\n",
       "      <td>28.587511</td>\n",
       "      <td>8.638897</td>\n",
       "      <td>NaN</td>\n",
       "      <td>NaN</td>\n",
       "      <td>70.676857</td>\n",
       "    </tr>\n",
       "    <tr>\n",
       "      <th>2000-01-06</th>\n",
       "      <td>15.623977</td>\n",
       "      <td>NaN</td>\n",
       "      <td>30.534290</td>\n",
       "      <td>21.352987</td>\n",
       "      <td>8.270250</td>\n",
       "      <td>29.904284</td>\n",
       "      <td>8.693941</td>\n",
       "      <td>NaN</td>\n",
       "      <td>NaN</td>\n",
       "      <td>71.845070</td>\n",
       "    </tr>\n",
       "    <tr>\n",
       "      <th>2000-01-07</th>\n",
       "      <td>16.651865</td>\n",
       "      <td>NaN</td>\n",
       "      <td>32.556789</td>\n",
       "      <td>22.454945</td>\n",
       "      <td>8.729709</td>\n",
       "      <td>32.295231</td>\n",
       "      <td>8.710131</td>\n",
       "      <td>NaN</td>\n",
       "      <td>NaN</td>\n",
       "      <td>71.260963</td>\n",
       "    </tr>\n",
       "    <tr>\n",
       "      <th>...</th>\n",
       "      <td>...</td>\n",
       "      <td>...</td>\n",
       "      <td>...</td>\n",
       "      <td>...</td>\n",
       "      <td>...</td>\n",
       "      <td>...</td>\n",
       "      <td>...</td>\n",
       "      <td>...</td>\n",
       "      <td>...</td>\n",
       "      <td>...</td>\n",
       "    </tr>\n",
       "    <tr>\n",
       "      <th>2022-03-07</th>\n",
       "      <td>61.080002</td>\n",
       "      <td>38.139999</td>\n",
       "      <td>528.520020</td>\n",
       "      <td>211.039993</td>\n",
       "      <td>43.880001</td>\n",
       "      <td>152.839996</td>\n",
       "      <td>67.669998</td>\n",
       "      <td>62.529999</td>\n",
       "      <td>350.839996</td>\n",
       "      <td>7.740000</td>\n",
       "    </tr>\n",
       "    <tr>\n",
       "      <th>2022-03-07</th>\n",
       "      <td>61.080002</td>\n",
       "      <td>38.139999</td>\n",
       "      <td>528.520020</td>\n",
       "      <td>211.039993</td>\n",
       "      <td>43.880001</td>\n",
       "      <td>152.839996</td>\n",
       "      <td>67.669998</td>\n",
       "      <td>62.529999</td>\n",
       "      <td>350.839996</td>\n",
       "      <td>7.740000</td>\n",
       "    </tr>\n",
       "    <tr>\n",
       "      <th>2022-03-07</th>\n",
       "      <td>61.080002</td>\n",
       "      <td>38.139999</td>\n",
       "      <td>528.520020</td>\n",
       "      <td>211.039993</td>\n",
       "      <td>43.880001</td>\n",
       "      <td>152.839996</td>\n",
       "      <td>67.669998</td>\n",
       "      <td>62.529999</td>\n",
       "      <td>350.839996</td>\n",
       "      <td>7.740000</td>\n",
       "    </tr>\n",
       "    <tr>\n",
       "      <th>2022-03-07</th>\n",
       "      <td>61.080002</td>\n",
       "      <td>38.139999</td>\n",
       "      <td>528.520020</td>\n",
       "      <td>211.039993</td>\n",
       "      <td>43.880001</td>\n",
       "      <td>152.839996</td>\n",
       "      <td>67.669998</td>\n",
       "      <td>62.529999</td>\n",
       "      <td>350.839996</td>\n",
       "      <td>7.740000</td>\n",
       "    </tr>\n",
       "    <tr>\n",
       "      <th>2022-03-07</th>\n",
       "      <td>61.080002</td>\n",
       "      <td>38.139999</td>\n",
       "      <td>528.520020</td>\n",
       "      <td>211.039993</td>\n",
       "      <td>43.880001</td>\n",
       "      <td>152.839996</td>\n",
       "      <td>67.669998</td>\n",
       "      <td>62.529999</td>\n",
       "      <td>350.839996</td>\n",
       "      <td>7.740000</td>\n",
       "    </tr>\n",
       "  </tbody>\n",
       "</table>\n",
       "<p>6603 rows × 10 columns</p>\n",
       "</div>"
      ],
      "text/plain": [
       "                   KO        KDP        COST         TGT         UL  \\\n",
       "Date                                                                  \n",
       "2000-01-03  15.452653        NaN   31.135590   23.972729   7.892838   \n",
       "2000-01-04  15.469783        NaN   29.430122   22.933136   7.777972   \n",
       "2000-01-05  15.606839        NaN   29.933012   22.413353   8.106162   \n",
       "2000-01-06  15.623977        NaN   30.534290   21.352987   8.270250   \n",
       "2000-01-07  16.651865        NaN   32.556789   22.454945   8.729709   \n",
       "...               ...        ...         ...         ...        ...   \n",
       "2022-03-07  61.080002  38.139999  528.520020  211.039993  43.880001   \n",
       "2022-03-07  61.080002  38.139999  528.520020  211.039993  43.880001   \n",
       "2022-03-07  61.080002  38.139999  528.520020  211.039993  43.880001   \n",
       "2022-03-07  61.080002  38.139999  528.520020  211.039993  43.880001   \n",
       "2022-03-07  61.080002  38.139999  528.520020  211.039993  43.880001   \n",
       "\n",
       "                    PG        GIS       MDLZ        ULTA        REV  \n",
       "Date                                                                 \n",
       "2000-01-03   29.713697   8.847645        NaN         NaN  71.260963  \n",
       "2000-01-04   29.141937   8.687068        NaN         NaN  75.349709  \n",
       "2000-01-05   28.587511   8.638897        NaN         NaN  70.676857  \n",
       "2000-01-06   29.904284   8.693941        NaN         NaN  71.845070  \n",
       "2000-01-07   32.295231   8.710131        NaN         NaN  71.260963  \n",
       "...                ...        ...        ...         ...        ...  \n",
       "2022-03-07  152.839996  67.669998  62.529999  350.839996   7.740000  \n",
       "2022-03-07  152.839996  67.669998  62.529999  350.839996   7.740000  \n",
       "2022-03-07  152.839996  67.669998  62.529999  350.839996   7.740000  \n",
       "2022-03-07  152.839996  67.669998  62.529999  350.839996   7.740000  \n",
       "2022-03-07  152.839996  67.669998  62.529999  350.839996   7.740000  \n",
       "\n",
       "[6603 rows x 10 columns]"
      ]
     },
     "execution_count": 20,
     "metadata": {},
     "output_type": "execute_result"
    }
   ],
   "source": [
    "staples_portfolio"
   ]
  },
  {
   "cell_type": "code",
   "execution_count": 21,
   "id": "c6293c8b",
   "metadata": {},
   "outputs": [
    {
     "name": "stdout",
     "output_type": "stream",
     "text": [
      "Requirement already satisfied: PyPortfolioOpt in c:\\users\\emily\\anaconda3\\lib\\site-packages (1.5.1)\n",
      "Requirement already satisfied: cvxpy<2.0.0,>=1.1.10 in c:\\users\\emily\\anaconda3\\lib\\site-packages (from PyPortfolioOpt) (1.1.18)\n",
      "Requirement already satisfied: scipy<2.0,>=1.3 in c:\\users\\emily\\anaconda3\\lib\\site-packages (from PyPortfolioOpt) (1.7.1)\n",
      "Requirement already satisfied: pandas>=0.19 in c:\\users\\emily\\anaconda3\\lib\\site-packages (from PyPortfolioOpt) (1.3.4)\n",
      "Requirement already satisfied: numpy<2.0,>=1.12 in c:\\users\\emily\\anaconda3\\lib\\site-packages (from PyPortfolioOpt) (1.20.3)\n",
      "Requirement already satisfied: ecos>=2 in c:\\users\\emily\\anaconda3\\lib\\site-packages (from cvxpy<2.0.0,>=1.1.10->PyPortfolioOpt) (2.0.10)\n",
      "Requirement already satisfied: osqp>=0.4.1 in c:\\users\\emily\\anaconda3\\lib\\site-packages (from cvxpy<2.0.0,>=1.1.10->PyPortfolioOpt) (0.6.2.post5)\n",
      "Requirement already satisfied: scs>=1.1.6 in c:\\users\\emily\\anaconda3\\lib\\site-packages (from cvxpy<2.0.0,>=1.1.10->PyPortfolioOpt) (3.2.0)\n",
      "Requirement already satisfied: qdldl in c:\\users\\emily\\anaconda3\\lib\\site-packages (from osqp>=0.4.1->cvxpy<2.0.0,>=1.1.10->PyPortfolioOpt) (0.1.5.post0)\n",
      "Requirement already satisfied: python-dateutil>=2.7.3 in c:\\users\\emily\\anaconda3\\lib\\site-packages (from pandas>=0.19->PyPortfolioOpt) (2.8.2)\n",
      "Requirement already satisfied: pytz>=2017.3 in c:\\users\\emily\\anaconda3\\lib\\site-packages (from pandas>=0.19->PyPortfolioOpt) (2021.3)\n",
      "Requirement already satisfied: six>=1.5 in c:\\users\\emily\\anaconda3\\lib\\site-packages (from python-dateutil>=2.7.3->pandas>=0.19->PyPortfolioOpt) (1.16.0)\n",
      "Note: you may need to restart the kernel to use updated packages.\n"
     ]
    }
   ],
   "source": [
    "pip install PyPortfolioOpt"
   ]
  },
  {
   "cell_type": "markdown",
   "id": "1ebc2d1a",
   "metadata": {},
   "source": [
    "__Find mean historical return and covariance for the portfolio.__"
   ]
  },
  {
   "cell_type": "code",
   "execution_count": 22,
   "id": "275fc3f6",
   "metadata": {},
   "outputs": [],
   "source": [
    "from pypfopt.expected_returns import mean_historical_return\n",
    "from pypfopt.risk_models import CovarianceShrinkage\n",
    "\n",
    "mu_staples = mean_historical_return(staples_portfolio)\n",
    "s_staples = CovarianceShrinkage(staples_portfolio).ledoit_wolf()"
   ]
  },
  {
   "cell_type": "markdown",
   "id": "1b01a0b9",
   "metadata": {},
   "source": [
    "__Use the Efficient Frontier method to evaluate the portfolio.__"
   ]
  },
  {
   "cell_type": "code",
   "execution_count": 23,
   "id": "500e5621",
   "metadata": {},
   "outputs": [],
   "source": [
    "from pypfopt.efficient_frontier import EfficientFrontier"
   ]
  },
  {
   "cell_type": "code",
   "execution_count": 24,
   "id": "887971e5",
   "metadata": {},
   "outputs": [],
   "source": [
    "staples_ef = EfficientFrontier(mu_staples, s_staples)\n",
    "staples_weights = staples_ef.max_sharpe()"
   ]
  },
  {
   "cell_type": "markdown",
   "id": "c34fcb1b",
   "metadata": {},
   "source": [
    "__Find optimal weights for each stock in the portfolio.__"
   ]
  },
  {
   "cell_type": "code",
   "execution_count": 25,
   "id": "339911f3",
   "metadata": {},
   "outputs": [
    {
     "name": "stdout",
     "output_type": "stream",
     "text": [
      "{'KO': 0.0, 'KDP': 0.62627, 'COST': 0.13853, 'TGT': 0.0, 'UL': 0.0, 'PG': 0.0, 'GIS': 0.15257, 'MDLZ': 0.0, 'ULTA': 0.08264, 'REV': 0.0}\n"
     ]
    }
   ],
   "source": [
    "staples_cleaned_wts = staples_ef.clean_weights()\n",
    "print(dict(staples_cleaned_wts))"
   ]
  },
  {
   "cell_type": "markdown",
   "id": "e3222063",
   "metadata": {},
   "source": [
    "__Find the expected return of the portfolio.__"
   ]
  },
  {
   "cell_type": "code",
   "execution_count": 26,
   "id": "41911776",
   "metadata": {},
   "outputs": [
    {
     "name": "stdout",
     "output_type": "stream",
     "text": [
      "Expected annual return: 13.5%\n",
      "Annual volatility: 15.2%\n",
      "Sharpe Ratio: 0.76\n"
     ]
    },
    {
     "data": {
      "text/plain": [
       "(0.1354909816501993, 0.15235780955012299, 0.7580246919486252)"
      ]
     },
     "execution_count": 26,
     "metadata": {},
     "output_type": "execute_result"
    }
   ],
   "source": [
    "staples_ef.portfolio_performance(verbose=True)"
   ]
  },
  {
   "cell_type": "markdown",
   "id": "147aca2c",
   "metadata": {},
   "source": [
    "__As we can see above, the expected return is acceptable (>10%) and the volatility is average (approx. 15%). However, the Sharpe ratio is low, which is cause for concern with this mix of stocks.__"
   ]
  },
  {
   "cell_type": "markdown",
   "id": "fbfb48f1",
   "metadata": {},
   "source": [
    "__Next, determine how to allocate our capital among the stocks. We have $10,000 to invest.__"
   ]
  },
  {
   "cell_type": "code",
   "execution_count": 27,
   "id": "a56c1cbd",
   "metadata": {},
   "outputs": [],
   "source": [
    "from pypfopt.discrete_allocation import DiscreteAllocation, get_latest_prices"
   ]
  },
  {
   "cell_type": "code",
   "execution_count": 28,
   "id": "69c96ae7",
   "metadata": {},
   "outputs": [],
   "source": [
    "staples_prices = get_latest_prices(staples_portfolio)"
   ]
  },
  {
   "cell_type": "code",
   "execution_count": 29,
   "id": "1d266099",
   "metadata": {},
   "outputs": [],
   "source": [
    "staples_da = DiscreteAllocation(staples_weights, staples_prices, total_portfolio_value = 10000)\n",
    "staples_allocation, staples_leftover = staples_da.greedy_portfolio()"
   ]
  },
  {
   "cell_type": "code",
   "execution_count": 30,
   "id": "63469726",
   "metadata": {},
   "outputs": [
    {
     "name": "stdout",
     "output_type": "stream",
     "text": [
      "Discrete Allocation:  {'KDP': 164, 'GIS': 23, 'COST': 2, 'ULTA': 3}\n",
      "Funds remaining: $79.07\n"
     ]
    }
   ],
   "source": [
    "print(\"Discrete Allocation: \", staples_allocation)\n",
    "print(\"Funds remaining: ${:.2f}\".format(staples_leftover))"
   ]
  },
  {
   "cell_type": "markdown",
   "id": "e9ad0ec1",
   "metadata": {},
   "source": [
    "__Repeat using a combination of stocks from different sectors.__"
   ]
  },
  {
   "cell_type": "markdown",
   "id": "bf8fc0d7",
   "metadata": {},
   "source": [
    "__Use the get_stock function to import data.__"
   ]
  },
  {
   "cell_type": "code",
   "execution_count": 32,
   "id": "a5896d7f",
   "metadata": {},
   "outputs": [
    {
     "name": "stdout",
     "output_type": "stream",
     "text": [
      "                  DIS\n",
      "Date                 \n",
      "2000-01-03  23.115252\n",
      "2000-01-04  24.469284\n",
      "2000-01-05  25.484808\n",
      "2000-01-06  24.469284\n",
      "2000-01-07  24.082417\n",
      "                 VLO\n",
      "Date                \n",
      "2000-01-03  2.610008\n",
      "2000-01-04  2.584420\n",
      "2000-01-05  2.678243\n",
      "2000-01-06  2.763538\n",
      "2000-01-07  2.729421\n",
      "                  IBM\n",
      "Date                 \n",
      "2000-01-03  66.433662\n",
      "2000-01-04  64.178673\n",
      "2000-01-05  66.433662\n",
      "2000-01-06  65.288284\n",
      "2000-01-07  65.001930\n",
      "                  PFE\n",
      "Date                 \n",
      "2000-01-03  14.201269\n",
      "2000-01-04  13.672202\n",
      "2000-01-05  13.894965\n",
      "2000-01-06  14.396190\n",
      "2000-01-07  15.370790\n",
      "                  USB\n",
      "Date                 \n",
      "2000-01-03  10.365388\n",
      "2000-01-04   9.987318\n",
      "2000-01-05   9.766777\n",
      "2000-01-06  10.522913\n",
      "2000-01-07  10.932488\n",
      "                  MMM\n",
      "Date                 \n",
      "2000-01-03  26.701992\n",
      "2000-01-04  25.640985\n",
      "2000-01-05  26.383694\n",
      "2000-01-06  28.505699\n",
      "2000-01-07  29.071579\n",
      "                  TGT\n",
      "Date                 \n",
      "2000-01-03  23.972723\n",
      "2000-01-04  22.933147\n",
      "2000-01-05  22.413355\n",
      "2000-01-06  21.352987\n",
      "2000-01-07  22.454941\n",
      "                  MCD\n",
      "Date                 \n",
      "2000-01-03  22.930809\n",
      "2000-01-04  22.460621\n",
      "2000-01-05  22.822300\n",
      "2000-01-06  22.496792\n",
      "2000-01-07  23.075483\n",
      "                  DUK\n",
      "Date                 \n",
      "2000-01-03  14.990426\n",
      "2000-01-04  15.223427\n",
      "2000-01-05  15.844801\n",
      "2000-01-06  16.271994\n",
      "2000-01-07  16.699171\n",
      "                   DD\n",
      "Date                 \n",
      "2000-01-03  30.408081\n",
      "2000-01-04  29.576941\n",
      "2000-01-05  30.537045\n",
      "2000-01-06  31.396832\n",
      "2000-01-07  32.099014\n"
     ]
    }
   ],
   "source": [
    "disney = get_stock('DIS')\n",
    "valero = get_stock('VLO')\n",
    "ibm = get_stock('IBM')\n",
    "pfizer = get_stock('PFE')\n",
    "usbank = get_stock('USB')\n",
    "_3M = get_stock('MMM')\n",
    "target = get_stock('TGT')\n",
    "mcdonalds = get_stock('MCD')\n",
    "duke = get_stock('DUK')\n",
    "dupont = get_stock('DD')"
   ]
  },
  {
   "cell_type": "markdown",
   "id": "331be504",
   "metadata": {},
   "source": [
    "__Combine the individual stock data into one variable.__"
   ]
  },
  {
   "cell_type": "code",
   "execution_count": 34,
   "id": "24494ebd",
   "metadata": {},
   "outputs": [
    {
     "name": "stdout",
     "output_type": "stream",
     "text": [
      "                  DIS\n",
      "Date                 \n",
      "2000-01-03  23.115250\n",
      "2000-01-04  24.469288\n",
      "2000-01-05  25.484806\n",
      "2000-01-06  24.469288\n",
      "2000-01-07  24.082418\n",
      "                 VLO\n",
      "Date                \n",
      "2000-01-03  2.610008\n",
      "2000-01-04  2.584419\n",
      "2000-01-05  2.678243\n",
      "2000-01-06  2.763538\n",
      "2000-01-07  2.729419\n",
      "                  IBM\n",
      "Date                 \n",
      "2000-01-03  66.433685\n",
      "2000-01-04  64.178642\n",
      "2000-01-05  66.433685\n",
      "2000-01-06  65.288261\n",
      "2000-01-07  65.001923\n",
      "                  PFE\n",
      "Date                 \n",
      "2000-01-03  14.201269\n",
      "2000-01-04  13.672200\n",
      "2000-01-05  13.894964\n",
      "2000-01-06  14.396184\n",
      "2000-01-07  15.370778\n",
      "                  USB\n",
      "Date                 \n",
      "2000-01-03  10.365387\n",
      "2000-01-04   9.987318\n",
      "2000-01-05   9.766777\n",
      "2000-01-06  10.522915\n",
      "2000-01-07  10.932488\n",
      "                  MMM\n",
      "Date                 \n",
      "2000-01-03  26.701996\n",
      "2000-01-04  25.640995\n",
      "2000-01-05  26.383698\n",
      "2000-01-06  28.505701\n",
      "2000-01-07  29.071581\n",
      "                  TGT\n",
      "Date                 \n",
      "2000-01-03  23.972729\n",
      "2000-01-04  22.933149\n",
      "2000-01-05  22.413349\n",
      "2000-01-06  21.352980\n",
      "2000-01-07  22.454935\n",
      "                  MCD\n",
      "Date                 \n",
      "2000-01-03  22.930809\n",
      "2000-01-04  22.460611\n",
      "2000-01-05  22.822302\n",
      "2000-01-06  22.496788\n",
      "2000-01-07  23.075485\n",
      "                  DUK\n",
      "Date                 \n",
      "2000-01-03  14.990426\n",
      "2000-01-04  15.223432\n",
      "2000-01-05  15.844806\n",
      "2000-01-06  16.271988\n",
      "2000-01-07  16.699179\n",
      "                   DD\n",
      "Date                 \n",
      "2000-01-03  30.408072\n",
      "2000-01-04  29.576929\n",
      "2000-01-05  30.537056\n",
      "2000-01-06  31.396845\n",
      "2000-01-07  32.099022\n",
      "                  DIS       VLO        IBM        PFE        USB        MMM  \\\n",
      "Date                                                                          \n",
      "2000-01-03  23.115250  2.610008  66.433685  14.201269  10.365387  26.701996   \n",
      "2000-01-04  24.469288  2.584419  64.178642  13.672200   9.987318  25.640995   \n",
      "2000-01-05  25.484806  2.678243  66.433685  13.894964   9.766777  26.383698   \n",
      "2000-01-06  24.469288  2.763538  65.288261  14.396184  10.522915  28.505701   \n",
      "2000-01-07  24.082418  2.729419  65.001923  15.370778  10.932488  29.071581   \n",
      "\n",
      "                  TGT        MCD        DUK         DD  \n",
      "Date                                                    \n",
      "2000-01-03  23.972729  22.930809  14.990426  30.408072  \n",
      "2000-01-04  22.933149  22.460611  15.223432  29.576929  \n",
      "2000-01-05  22.413349  22.822302  15.844806  30.537056  \n",
      "2000-01-06  21.352980  22.496788  16.271988  31.396845  \n",
      "2000-01-07  22.454935  23.075485  16.699179  32.099022  \n"
     ]
    }
   ],
   "source": [
    "diverse_stocks = ['DIS', 'VLO', 'IBM', 'PFE', 'USB', 'MMM', 'TGT', 'MCD', 'DUK', 'DD']\n",
    "diverse_portfolio = combine_stocks(diverse_stocks)"
   ]
  },
  {
   "cell_type": "markdown",
   "id": "8fa28636",
   "metadata": {},
   "source": [
    "__View a sample to verify data is correct.__"
   ]
  },
  {
   "cell_type": "code",
   "execution_count": 35,
   "id": "ef38f43e",
   "metadata": {},
   "outputs": [
    {
     "data": {
      "text/html": [
       "<div>\n",
       "<style scoped>\n",
       "    .dataframe tbody tr th:only-of-type {\n",
       "        vertical-align: middle;\n",
       "    }\n",
       "\n",
       "    .dataframe tbody tr th {\n",
       "        vertical-align: top;\n",
       "    }\n",
       "\n",
       "    .dataframe thead th {\n",
       "        text-align: right;\n",
       "    }\n",
       "</style>\n",
       "<table border=\"1\" class=\"dataframe\">\n",
       "  <thead>\n",
       "    <tr style=\"text-align: right;\">\n",
       "      <th></th>\n",
       "      <th>DIS</th>\n",
       "      <th>VLO</th>\n",
       "      <th>IBM</th>\n",
       "      <th>PFE</th>\n",
       "      <th>USB</th>\n",
       "      <th>MMM</th>\n",
       "      <th>TGT</th>\n",
       "      <th>MCD</th>\n",
       "      <th>DUK</th>\n",
       "      <th>DD</th>\n",
       "    </tr>\n",
       "    <tr>\n",
       "      <th>Date</th>\n",
       "      <th></th>\n",
       "      <th></th>\n",
       "      <th></th>\n",
       "      <th></th>\n",
       "      <th></th>\n",
       "      <th></th>\n",
       "      <th></th>\n",
       "      <th></th>\n",
       "      <th></th>\n",
       "      <th></th>\n",
       "    </tr>\n",
       "  </thead>\n",
       "  <tbody>\n",
       "    <tr>\n",
       "      <th>2000-01-03</th>\n",
       "      <td>23.115250</td>\n",
       "      <td>2.610008</td>\n",
       "      <td>66.433685</td>\n",
       "      <td>14.201269</td>\n",
       "      <td>10.365387</td>\n",
       "      <td>26.701996</td>\n",
       "      <td>23.972729</td>\n",
       "      <td>22.930809</td>\n",
       "      <td>14.990426</td>\n",
       "      <td>30.408072</td>\n",
       "    </tr>\n",
       "    <tr>\n",
       "      <th>2000-01-04</th>\n",
       "      <td>24.469288</td>\n",
       "      <td>2.584419</td>\n",
       "      <td>64.178642</td>\n",
       "      <td>13.672200</td>\n",
       "      <td>9.987318</td>\n",
       "      <td>25.640995</td>\n",
       "      <td>22.933149</td>\n",
       "      <td>22.460611</td>\n",
       "      <td>15.223432</td>\n",
       "      <td>29.576929</td>\n",
       "    </tr>\n",
       "    <tr>\n",
       "      <th>2000-01-05</th>\n",
       "      <td>25.484806</td>\n",
       "      <td>2.678243</td>\n",
       "      <td>66.433685</td>\n",
       "      <td>13.894964</td>\n",
       "      <td>9.766777</td>\n",
       "      <td>26.383698</td>\n",
       "      <td>22.413349</td>\n",
       "      <td>22.822302</td>\n",
       "      <td>15.844806</td>\n",
       "      <td>30.537056</td>\n",
       "    </tr>\n",
       "    <tr>\n",
       "      <th>2000-01-06</th>\n",
       "      <td>24.469288</td>\n",
       "      <td>2.763538</td>\n",
       "      <td>65.288261</td>\n",
       "      <td>14.396184</td>\n",
       "      <td>10.522915</td>\n",
       "      <td>28.505701</td>\n",
       "      <td>21.352980</td>\n",
       "      <td>22.496788</td>\n",
       "      <td>16.271988</td>\n",
       "      <td>31.396845</td>\n",
       "    </tr>\n",
       "    <tr>\n",
       "      <th>2000-01-07</th>\n",
       "      <td>24.082418</td>\n",
       "      <td>2.729419</td>\n",
       "      <td>65.001923</td>\n",
       "      <td>15.370778</td>\n",
       "      <td>10.932488</td>\n",
       "      <td>29.071581</td>\n",
       "      <td>22.454935</td>\n",
       "      <td>23.075485</td>\n",
       "      <td>16.699179</td>\n",
       "      <td>32.099022</td>\n",
       "    </tr>\n",
       "    <tr>\n",
       "      <th>...</th>\n",
       "      <td>...</td>\n",
       "      <td>...</td>\n",
       "      <td>...</td>\n",
       "      <td>...</td>\n",
       "      <td>...</td>\n",
       "      <td>...</td>\n",
       "      <td>...</td>\n",
       "      <td>...</td>\n",
       "      <td>...</td>\n",
       "      <td>...</td>\n",
       "    </tr>\n",
       "    <tr>\n",
       "      <th>2022-03-07</th>\n",
       "      <td>133.500000</td>\n",
       "      <td>84.010002</td>\n",
       "      <td>126.070000</td>\n",
       "      <td>47.980000</td>\n",
       "      <td>53.099998</td>\n",
       "      <td>143.279999</td>\n",
       "      <td>211.039993</td>\n",
       "      <td>224.330002</td>\n",
       "      <td>106.699997</td>\n",
       "      <td>69.070000</td>\n",
       "    </tr>\n",
       "    <tr>\n",
       "      <th>2022-03-07</th>\n",
       "      <td>133.500000</td>\n",
       "      <td>84.010002</td>\n",
       "      <td>126.070000</td>\n",
       "      <td>47.980000</td>\n",
       "      <td>53.099998</td>\n",
       "      <td>143.279999</td>\n",
       "      <td>211.039993</td>\n",
       "      <td>224.330002</td>\n",
       "      <td>106.699997</td>\n",
       "      <td>69.070000</td>\n",
       "    </tr>\n",
       "    <tr>\n",
       "      <th>2022-03-07</th>\n",
       "      <td>133.500000</td>\n",
       "      <td>84.010002</td>\n",
       "      <td>126.070000</td>\n",
       "      <td>47.980000</td>\n",
       "      <td>53.099998</td>\n",
       "      <td>143.279999</td>\n",
       "      <td>211.039993</td>\n",
       "      <td>224.330002</td>\n",
       "      <td>106.699997</td>\n",
       "      <td>69.070000</td>\n",
       "    </tr>\n",
       "    <tr>\n",
       "      <th>2022-03-07</th>\n",
       "      <td>133.500000</td>\n",
       "      <td>84.010002</td>\n",
       "      <td>126.070000</td>\n",
       "      <td>47.980000</td>\n",
       "      <td>53.099998</td>\n",
       "      <td>143.279999</td>\n",
       "      <td>211.039993</td>\n",
       "      <td>224.330002</td>\n",
       "      <td>106.699997</td>\n",
       "      <td>69.070000</td>\n",
       "    </tr>\n",
       "    <tr>\n",
       "      <th>2022-03-07</th>\n",
       "      <td>133.500000</td>\n",
       "      <td>84.010002</td>\n",
       "      <td>126.070000</td>\n",
       "      <td>47.980000</td>\n",
       "      <td>53.099998</td>\n",
       "      <td>143.279999</td>\n",
       "      <td>211.039993</td>\n",
       "      <td>224.330002</td>\n",
       "      <td>106.699997</td>\n",
       "      <td>69.070000</td>\n",
       "    </tr>\n",
       "  </tbody>\n",
       "</table>\n",
       "<p>6603 rows × 10 columns</p>\n",
       "</div>"
      ],
      "text/plain": [
       "                   DIS        VLO         IBM        PFE        USB  \\\n",
       "Date                                                                  \n",
       "2000-01-03   23.115250   2.610008   66.433685  14.201269  10.365387   \n",
       "2000-01-04   24.469288   2.584419   64.178642  13.672200   9.987318   \n",
       "2000-01-05   25.484806   2.678243   66.433685  13.894964   9.766777   \n",
       "2000-01-06   24.469288   2.763538   65.288261  14.396184  10.522915   \n",
       "2000-01-07   24.082418   2.729419   65.001923  15.370778  10.932488   \n",
       "...                ...        ...         ...        ...        ...   \n",
       "2022-03-07  133.500000  84.010002  126.070000  47.980000  53.099998   \n",
       "2022-03-07  133.500000  84.010002  126.070000  47.980000  53.099998   \n",
       "2022-03-07  133.500000  84.010002  126.070000  47.980000  53.099998   \n",
       "2022-03-07  133.500000  84.010002  126.070000  47.980000  53.099998   \n",
       "2022-03-07  133.500000  84.010002  126.070000  47.980000  53.099998   \n",
       "\n",
       "                   MMM         TGT         MCD         DUK         DD  \n",
       "Date                                                                   \n",
       "2000-01-03   26.701996   23.972729   22.930809   14.990426  30.408072  \n",
       "2000-01-04   25.640995   22.933149   22.460611   15.223432  29.576929  \n",
       "2000-01-05   26.383698   22.413349   22.822302   15.844806  30.537056  \n",
       "2000-01-06   28.505701   21.352980   22.496788   16.271988  31.396845  \n",
       "2000-01-07   29.071581   22.454935   23.075485   16.699179  32.099022  \n",
       "...                ...         ...         ...         ...        ...  \n",
       "2022-03-07  143.279999  211.039993  224.330002  106.699997  69.070000  \n",
       "2022-03-07  143.279999  211.039993  224.330002  106.699997  69.070000  \n",
       "2022-03-07  143.279999  211.039993  224.330002  106.699997  69.070000  \n",
       "2022-03-07  143.279999  211.039993  224.330002  106.699997  69.070000  \n",
       "2022-03-07  143.279999  211.039993  224.330002  106.699997  69.070000  \n",
       "\n",
       "[6603 rows x 10 columns]"
      ]
     },
     "execution_count": 35,
     "metadata": {},
     "output_type": "execute_result"
    }
   ],
   "source": [
    "diverse_portfolio"
   ]
  },
  {
   "cell_type": "markdown",
   "id": "fdc46a6b",
   "metadata": {},
   "source": [
    "__Find mean historical return and covariance for the portfolio.__"
   ]
  },
  {
   "cell_type": "code",
   "execution_count": 36,
   "id": "3a21386f",
   "metadata": {},
   "outputs": [],
   "source": [
    "mu_div = mean_historical_return(diverse_portfolio)\n",
    "s_div = CovarianceShrinkage(diverse_portfolio).ledoit_wolf()"
   ]
  },
  {
   "cell_type": "markdown",
   "id": "15f2f117",
   "metadata": {},
   "source": [
    "__Use Efficient Frontier method to evaluate portfolio.__"
   ]
  },
  {
   "cell_type": "code",
   "execution_count": 37,
   "id": "d3d444f3",
   "metadata": {},
   "outputs": [],
   "source": [
    "diverse_ef = EfficientFrontier(mu_div, s_div)\n",
    "diverse_weights = diverse_ef.max_sharpe()"
   ]
  },
  {
   "cell_type": "markdown",
   "id": "a518c774",
   "metadata": {},
   "source": [
    "__Find optimal weights for each stock.__"
   ]
  },
  {
   "cell_type": "code",
   "execution_count": 38,
   "id": "9177969b",
   "metadata": {},
   "outputs": [
    {
     "name": "stdout",
     "output_type": "stream",
     "text": [
      "{'DIS': 0.0, 'VLO': 0.24381, 'IBM': 0.0, 'PFE': 0.0, 'USB': 0.0, 'MMM': 0.0, 'TGT': 0.10497, 'MCD': 0.42889, 'DUK': 0.22233, 'DD': 0.0}\n"
     ]
    }
   ],
   "source": [
    "diverse_cleaned_wts = diverse_ef.clean_weights()\n",
    "print(dict(diverse_cleaned_wts))"
   ]
  },
  {
   "cell_type": "markdown",
   "id": "40a2a0f0",
   "metadata": {},
   "source": [
    "__Find the expected return of the portfolio.__"
   ]
  },
  {
   "cell_type": "code",
   "execution_count": 39,
   "id": "6b5175f6",
   "metadata": {},
   "outputs": [
    {
     "name": "stdout",
     "output_type": "stream",
     "text": [
      "Expected annual return: 10.0%\n",
      "Annual volatility: 18.8%\n",
      "Sharpe Ratio: 0.43\n"
     ]
    },
    {
     "data": {
      "text/plain": [
       "(0.09993759547939379, 0.1875312901939722, 0.4262627073951802)"
      ]
     },
     "execution_count": 39,
     "metadata": {},
     "output_type": "execute_result"
    }
   ],
   "source": [
    "diverse_ef.portfolio_performance(verbose=True)"
   ]
  },
  {
   "cell_type": "markdown",
   "id": "7ee01be1",
   "metadata": {},
   "source": [
    "__The expected return is acceptable, although it is lower than the first portfolio. The volatility is above average, at 18.8%, and the Sharpe ratio is low. This portfolio appears to be the worse option of the two available here.__"
   ]
  },
  {
   "cell_type": "markdown",
   "id": "0297683d",
   "metadata": {},
   "source": [
    "__Determine how to allocate our funds. We have $10,000 to invest.__"
   ]
  },
  {
   "cell_type": "code",
   "execution_count": 40,
   "id": "a68b62f4",
   "metadata": {},
   "outputs": [],
   "source": [
    "div_prices = get_latest_prices(diverse_portfolio)"
   ]
  },
  {
   "cell_type": "code",
   "execution_count": 41,
   "id": "26f68ac4",
   "metadata": {},
   "outputs": [],
   "source": [
    "diverse_da = DiscreteAllocation(diverse_weights, div_prices, total_portfolio_value = 10000)\n",
    "diverse_allocation, diverse_leftover = diverse_da.greedy_portfolio()"
   ]
  },
  {
   "cell_type": "code",
   "execution_count": 42,
   "id": "2c23c0c3",
   "metadata": {},
   "outputs": [
    {
     "name": "stdout",
     "output_type": "stream",
     "text": [
      "Discrete Allocation:  {'MCD': 19, 'VLO': 29, 'DUK': 21, 'TGT': 5}\n",
      "Funds remaining: $5.54\n"
     ]
    }
   ],
   "source": [
    "print(\"Discrete Allocation: \", diverse_allocation)\n",
    "print(\"Funds remaining: ${:.2f}\".format(diverse_leftover))"
   ]
  },
  {
   "cell_type": "markdown",
   "id": "88a48819",
   "metadata": {},
   "source": [
    "__Save both portfolios into CSV files for later use.__"
   ]
  },
  {
   "cell_type": "code",
   "execution_count": 43,
   "id": "de8c2cb6",
   "metadata": {},
   "outputs": [],
   "source": [
    "staples_portfolio.to_csv('C:\\\\Users\\\\emily\\\\OneDrive\\\\Desktop\\\\staples_portfolio.csv', index=False)\n",
    "diverse_portfolio.to_csv('C:\\\\Users\\\\emily\\\\OneDrive\\\\Desktop\\\\diverse_portfolio.csv', index=False)"
   ]
  }
 ],
 "metadata": {
  "kernelspec": {
   "display_name": "Python 3 (ipykernel)",
   "language": "python",
   "name": "python3"
  },
  "language_info": {
   "codemirror_mode": {
    "name": "ipython",
    "version": 3
   },
   "file_extension": ".py",
   "mimetype": "text/x-python",
   "name": "python",
   "nbconvert_exporter": "python",
   "pygments_lexer": "ipython3",
   "version": "3.9.7"
  }
 },
 "nbformat": 4,
 "nbformat_minor": 5
}
